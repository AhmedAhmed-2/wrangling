{
  "cells": [
    {
      "cell_type": "markdown",
      "metadata": {
        "id": "IU2Oe2lgy3XV"
      },
      "source": [
        "# Web Scraping\n",
        "\n",
        "Lots of great data is available online, but available through inconveniently formatted web pages. When this is the case, sometimes you can simply copy and paste the data into a .csv file and go on with your life. But if there are many records to parse and combine into a dataset, that might be impossible. Can we automate the collection of data from online sources?\n",
        "\n",
        "This is called web scraping. Broadly speaking: Web scraping is legal, but what you plan to do with the results of your scraping might not be. In general, most sites do not want you to scrape them at this point, but there is not really a way to stop you if you are sufficiently motivated. Be careful to use server resources respectfully (not too many requests per unit time), think seriously about privacy concerns, and be careful who you share your work with and how it is used.\n",
        "\n",
        "We'll be scraping data about used cars in Charlottesville from Craigslist, particularly this page: https://charlottesville.craigslist.org/search/cta?purveyor=owner#search=1~gallery~0~0"
      ]
    },
    {
      "cell_type": "markdown",
      "metadata": {
        "id": "ui3HNFVXy3XX"
      },
      "source": [
        "We'll use the `requests` package to get web pages off the Internet and into Python. Again, we'll use a header with a user-agent that masks our true identity so that we're not rejected by the server. This particular url points to the car listings for Craigslist in Charlottesville. To use requests, you pass a `url` for the page you want and a `header` that controls how you appear to the server to `requests.get`:"
      ]
    },
    {
      "cell_type": "code",
      "execution_count": null,
      "metadata": {
        "id": "bT63yifry3XX"
      },
      "outputs": [],
      "source": [
        "import numpy as np\n",
        "import matplotlib.pyplot as plt\n",
        "import pandas as pd\n",
        "import seaborn as sns\n",
        "\n",
        "import requests # Page requests\n",
        "\n",
        "header = {'User-Agent': 'Mozilla/5.0 (Windows NT 10.0; Win64; x64; rv:124.0) Gecko/20100101 Firefox/124.0'} # How we wish to appear to CL\n",
        "url = 'https://charlottesville.craigslist.org/search/cta?purveyor=owner#search=1~gallery~0~0' # The page we want to scrape\n",
        "raw = requests.get(url,headers=header) # Get page"
      ]
    },
    {
      "cell_type": "markdown",
      "metadata": {
        "id": "GS1XkRlXy3XX"
      },
      "source": [
        "Now that we have that particular page available locally, we want to **parse** it and get results from it. To do that, we can use a package called `beautifulSoup` or `bs4`.\n",
        "\n",
        "What does `beautifulSoup` do for us? Let's go to the web page of interest. You probably see something like this:\n",
        "\n",
        "![Listings](./src/craigslist.png \"Craigslist\")\n",
        "\n",
        "But if you \"view page source\" -- which is CTRL+U -- in Chrome, you see what the computer sees:\n",
        "\n",
        "![Listings](./src/craigslist_source.png \"Craigslist\")\n",
        "\n",
        "Since your web browser needs lots of instructions about how to render the text, pictures, and other content on your web page, there are a lot of clues about where the data live and how to extricate them from a page. These clues are called **tags**. If you wander the source for the search page on cars, you see a particular `class = \"cl-static-search-result\"` term appear attached to each listing:\n",
        "\n",
        "![Listings](./src/listing.png \"Craigslist\")\n",
        "\n",
        "This structure can be exploited to search the page for information. This kind of detective work -- looking at the page source, finding the interesting tags, and then searching the page with `beautifulSoup` -- is the basic job of web scraping.\n",
        "\n",
        "What I do is look at the rendered page, find the text I want and copy it, then search for that text in the HTML code that the computer sees. When I find the text I want, I look for the tag nearby. Here, it's `cl-static-search-result`: That's what I'll want beautifulSoup to search for."
      ]
    },
    {
      "cell_type": "markdown",
      "metadata": {
        "id": "fEO2NpZ8y3XY"
      },
      "source": [
        "The following code chunk takes the raw content from `requests` and turns it into a beautifulSoup object, which can search the page and return results for us:"
      ]
    },
    {
      "cell_type": "code",
      "execution_count": null,
      "metadata": {
        "id": "lllobrYIy3XY"
      },
      "outputs": [],
      "source": [
        "from bs4 import BeautifulSoup as soup # HTML parser\n",
        "bsObj = soup(raw.content,'html.parser') # Parse the html\n",
        "listings = bsObj.find_all(class_=\"cl-static-search-result\") # Find all listings of the kind we want"
      ]
    },
    {
      "cell_type": "markdown",
      "metadata": {
        "id": "ymO8JbMmy3XY"
      },
      "source": [
        "Why is the argument `class_` and not just `class`? The word `class` is a reserved keyword for Python, and cannot be used by anyone else, similar to `True` and `False`. But since we want the `class = \"cl-static-search-result\"` terms, we need to use the `class_` argument to the `.find_all` method.\n",
        "\n",
        "The `.find_all` function dredges the entire page and finds all the instances of `class = \"cl-static-search-result\"`, resulting in a list of entries. We can then parse the entries.\n",
        "\n",
        "Parsing the entries can be a challenge! We have to go back to what a listing looks like, and look at the tags within the listing. They're typically `div` tags with a `class` like price or location. You then have to experiment a bit with `.find` and the HTML to make sure you're getting the information you want. For each listing, the `.find` method to search within the listing record for specific information, but it's typically still wrapped in the tag. To get the real information we want, we can then use `.get_text()`. I end up using a code chunk to experiment and play with a record to make sure I'm getting as close to what I want as possible.\n",
        "\n",
        "In the code below, two more things happen. You don't need to do them in your work, but they're helpful to know about.\n",
        "\n",
        "First, I would like to get the brand of the car from the post title, if possible. To do this, I split the title into words using `title.split()`, and then I use a list comprehension to look over every word in the title and check whether it appears in the `brands` list.\n",
        "\n",
        "Second, I would like to get the year the car was built, if possible, so I can determine the vehicle's age. To do this, I use a thing called **regular expressions** that provides a language for expressing patterns. Do I remember how to do this off the top of my head? No, I read a few pages in a book and looked on StackOverflow for answers. Roughly, in order to express the idea \"any year starting with 20xx,\" you can write `20[0-9][0-9]`, and for \"any year starting with 19xx,\" you can write `19[0-9][0-9]`. The `[0-9]`'s act as wildcards for any digit. This allows me to use the `re` package to find any instances of year-like numbers in the title text, using `re.search(r'20[0-9][0-9]|19[0-9][0-9]', title )`.\n",
        "\n",
        "This is all nested in a for-loop over the listings, and the data is appended to a list."
      ]
    },
    {
      "cell_type": "code",
      "execution_count": null,
      "metadata": {
        "id": "jw-U4BA-y3XY"
      },
      "outputs": [],
      "source": [
        "import re # Regular expressions\n",
        "\n",
        "brands = ['honda', 'dodge','toyota','ford','tesla','gmc','jeep','bmw','mitsubishi','mazda',\n",
        "          'volvo','audi','volkswagen','chevy','chevrolet','acura','kia','subaru','lexus',\n",
        "          'cadillac','buick','porsche','infiniti']\n",
        "\n",
        "data = [] # We'll save our listings in this object\n",
        "for k in range( len(listings) ):\n",
        "    title = listings[k].find('div',class_='title').get_text().lower()\n",
        "    price = listings[k].find('div',class_='price').get_text()\n",
        "    link = listings[k].find(href=True)['href']\n",
        "    # Get brand from the title string:\n",
        "    words = title.split()\n",
        "    hits = [word for word in words if word in brands] # Find brands in the title\n",
        "    if len(hits) == 0:\n",
        "        brand = 'missing'\n",
        "    else:\n",
        "        brand = hits[0]\n",
        "    # Get years from title string:\n",
        "    regex_search = re.search(r'20[0-9][0-9]|19[0-9][0-9]', title ) # Find year references\n",
        "    if regex_search is None: # If no hits, record year as missing value\n",
        "        year = np.nan\n",
        "    else: # If hits, record year as first match\n",
        "        year = regex_search.group(0)\n",
        "    #\n",
        "    data.append({'title':title,'price':price,'year':year,'link':link,'brand':brand})"
      ]
    },
    {
      "cell_type": "markdown",
      "metadata": {
        "id": "Mz4zVi80y3XZ"
      },
      "source": [
        "\n",
        "With the data scraped from Craigslist, we can put it in a dataframe and wrangle it. Of course, price and year come in as text, not numbers, and need to be typecast/coerced:"
      ]
    },
    {
      "cell_type": "code",
      "execution_count": null,
      "metadata": {
        "id": "KY1njgHcy3XZ",
        "outputId": "985126b7-e5e5-40c3-ba09-ed0b56625f69"
      },
      "outputs": [
        {
          "name": "stdout",
          "output_type": "stream",
          "text": [
            "(46, 6)\n"
          ]
        },
        {
          "data": {
            "text/html": [
              "<div>\n",
              "<style scoped>\n",
              "    .dataframe tbody tr th:only-of-type {\n",
              "        vertical-align: middle;\n",
              "    }\n",
              "\n",
              "    .dataframe tbody tr th {\n",
              "        vertical-align: top;\n",
              "    }\n",
              "\n",
              "    .dataframe thead th {\n",
              "        text-align: right;\n",
              "    }\n",
              "</style>\n",
              "<table border=\"1\" class=\"dataframe\">\n",
              "  <thead>\n",
              "    <tr style=\"text-align: right;\">\n",
              "      <th></th>\n",
              "      <th>title</th>\n",
              "      <th>price</th>\n",
              "      <th>year</th>\n",
              "      <th>link</th>\n",
              "      <th>brand</th>\n",
              "      <th>age</th>\n",
              "    </tr>\n",
              "  </thead>\n",
              "  <tbody>\n",
              "    <tr>\n",
              "      <th>0</th>\n",
              "      <td>a sweet sedan avalon xle plus</td>\n",
              "      <td>24000</td>\n",
              "      <td>NaN</td>\n",
              "      <td>https://charlottesville.craigslist.org/cto/d/c...</td>\n",
              "      <td>missing</td>\n",
              "      <td>NaN</td>\n",
              "    </tr>\n",
              "    <tr>\n",
              "      <th>1</th>\n",
              "      <td>1998 gmc sierra 1500 sl truck auto rwd &lt;103,00...</td>\n",
              "      <td>6950</td>\n",
              "      <td>1998.0</td>\n",
              "      <td>https://charlottesville.craigslist.org/cto/d/l...</td>\n",
              "      <td>gmc</td>\n",
              "      <td>27.0</td>\n",
              "    </tr>\n",
              "    <tr>\n",
              "      <th>2</th>\n",
              "      <td>gmc sierra 3500hd 6.6 duramax diesel dually</td>\n",
              "      <td>26000</td>\n",
              "      <td>NaN</td>\n",
              "      <td>https://charlottesville.craigslist.org/cto/d/c...</td>\n",
              "      <td>gmc</td>\n",
              "      <td>NaN</td>\n",
              "    </tr>\n",
              "    <tr>\n",
              "      <th>3</th>\n",
              "      <td>2007 chrysler sebring</td>\n",
              "      <td>2900</td>\n",
              "      <td>2007.0</td>\n",
              "      <td>https://charlottesville.craigslist.org/cto/d/c...</td>\n",
              "      <td>missing</td>\n",
              "      <td>18.0</td>\n",
              "    </tr>\n",
              "    <tr>\n",
              "      <th>4</th>\n",
              "      <td>2012 nissan versa sl</td>\n",
              "      <td>3500</td>\n",
              "      <td>2012.0</td>\n",
              "      <td>https://charlottesville.craigslist.org/cto/d/c...</td>\n",
              "      <td>missing</td>\n",
              "      <td>13.0</td>\n",
              "    </tr>\n",
              "  </tbody>\n",
              "</table>\n",
              "</div>"
            ],
            "text/plain": [
              "                                               title  price    year  \\\n",
              "0                      a sweet sedan avalon xle plus  24000     NaN   \n",
              "1  1998 gmc sierra 1500 sl truck auto rwd <103,00...   6950  1998.0   \n",
              "2        gmc sierra 3500hd 6.6 duramax diesel dually  26000     NaN   \n",
              "3                              2007 chrysler sebring   2900  2007.0   \n",
              "4                               2012 nissan versa sl   3500  2012.0   \n",
              "\n",
              "                                                link    brand   age  \n",
              "0  https://charlottesville.craigslist.org/cto/d/c...  missing   NaN  \n",
              "1  https://charlottesville.craigslist.org/cto/d/l...      gmc  27.0  \n",
              "2  https://charlottesville.craigslist.org/cto/d/c...      gmc   NaN  \n",
              "3  https://charlottesville.craigslist.org/cto/d/c...  missing  18.0  \n",
              "4  https://charlottesville.craigslist.org/cto/d/c...  missing  13.0  "
            ]
          },
          "execution_count": 17,
          "metadata": {},
          "output_type": "execute_result"
        }
      ],
      "source": [
        "## Wrangle the data\n",
        "df = pd.DataFrame.from_dict(data)\n",
        "df['price'] = df['price'].str.replace('$','')\n",
        "df['price'] = df['price'].str.replace(',','')\n",
        "df['price'] = pd.to_numeric(df['price'],errors='coerce')\n",
        "df['year'] = pd.to_numeric(df['year'],errors='coerce')\n",
        "df['age'] = 2025-df['year']\n",
        "print(df.shape)\n",
        "df.to_csv('./src/craigslist_cville_cars.csv') # Save data in case of a disaster\n",
        "df.head()"
      ]
    },
    {
      "cell_type": "markdown",
      "metadata": {
        "id": "YBcg4XUoy3XZ"
      },
      "source": [
        "With the data in and wrangled, we can now do some analysis:"
      ]
    },
    {
      "cell_type": "code",
      "execution_count": null,
      "metadata": {
        "id": "qBMwX_rFy3XZ",
        "outputId": "9abfa7a7-f4fb-4563-c0f6-531f74310c3e"
      },
      "outputs": [
        {
          "name": "stdout",
          "output_type": "stream",
          "text": [
            "count       46.000000\n",
            "mean     11983.630435\n",
            "std      13656.112410\n",
            "min       2000.000000\n",
            "25%       4037.500000\n",
            "50%       6725.000000\n",
            "75%      13350.000000\n",
            "max      62800.000000\n",
            "Name: price, dtype: float64\n"
          ]
        },
        {
          "data": {
            "image/png": "[encoded data removed]",
            "text/plain": [
              "<Figure size 640x480 with 1 Axes>"
            ]
          },
          "metadata": {},
          "output_type": "display_data"
        },
        {
          "name": "stdout",
          "output_type": "stream",
          "text": [
            "count    41.000000\n",
            "mean     24.121951\n",
            "std      16.315936\n",
            "min       6.000000\n",
            "25%      13.000000\n",
            "50%      19.000000\n",
            "75%      31.000000\n",
            "max      68.000000\n",
            "Name: age, dtype: float64\n"
          ]
        },
        {
          "data": {
            "image/png": "[encoded data removed]",
            "text/plain": [
              "<Figure size 640x480 with 1 Axes>"
            ]
          },
          "metadata": {},
          "output_type": "display_data"
        }
      ],
      "source": [
        "print(df['price'].describe())\n",
        "df['price'].hist(grid=False)\n",
        "plt.show()\n",
        "print(df['age'].describe())\n",
        "df['age'].hist(grid=False)\n",
        "plt.show()"
      ]
    },
    {
      "cell_type": "code",
      "execution_count": null,
      "metadata": {
        "id": "xsJPUF2wy3XZ",
        "outputId": "9a613e49-3b2b-4214-9ae3-9a5f0986ff6e"
      },
      "outputs": [
        {
          "data": {
            "text/html": [
              "<div>\n",
              "<style scoped>\n",
              "    .dataframe tbody tr th:only-of-type {\n",
              "        vertical-align: middle;\n",
              "    }\n",
              "\n",
              "    .dataframe tbody tr th {\n",
              "        vertical-align: top;\n",
              "    }\n",
              "\n",
              "    .dataframe thead tr th {\n",
              "        text-align: left;\n",
              "    }\n",
              "\n",
              "    .dataframe thead tr:last-of-type th {\n",
              "        text-align: right;\n",
              "    }\n",
              "</style>\n",
              "<table border=\"1\" class=\"dataframe\">\n",
              "  <thead>\n",
              "    <tr>\n",
              "      <th></th>\n",
              "      <th colspan=\"8\" halign=\"left\">price</th>\n",
              "    </tr>\n",
              "    <tr>\n",
              "      <th></th>\n",
              "      <th>count</th>\n",
              "      <th>mean</th>\n",
              "      <th>std</th>\n",
              "      <th>min</th>\n",
              "      <th>25%</th>\n",
              "      <th>50%</th>\n",
              "      <th>75%</th>\n",
              "      <th>max</th>\n",
              "    </tr>\n",
              "    <tr>\n",
              "      <th>brand</th>\n",
              "      <th></th>\n",
              "      <th></th>\n",
              "      <th></th>\n",
              "      <th></th>\n",
              "      <th></th>\n",
              "      <th></th>\n",
              "      <th></th>\n",
              "      <th></th>\n",
              "    </tr>\n",
              "  </thead>\n",
              "  <tbody>\n",
              "    <tr>\n",
              "      <th>audi</th>\n",
              "      <td>1.0</td>\n",
              "      <td>37000.000000</td>\n",
              "      <td>NaN</td>\n",
              "      <td>37000.0</td>\n",
              "      <td>37000.00</td>\n",
              "      <td>37000.0</td>\n",
              "      <td>37000.00</td>\n",
              "      <td>37000.0</td>\n",
              "    </tr>\n",
              "    <tr>\n",
              "      <th>bmw</th>\n",
              "      <td>3.0</td>\n",
              "      <td>19966.666667</td>\n",
              "      <td>20813.537261</td>\n",
              "      <td>7900.0</td>\n",
              "      <td>7950.00</td>\n",
              "      <td>8000.0</td>\n",
              "      <td>26000.00</td>\n",
              "      <td>44000.0</td>\n",
              "    </tr>\n",
              "    <tr>\n",
              "      <th>chevrolet</th>\n",
              "      <td>4.0</td>\n",
              "      <td>10875.000000</td>\n",
              "      <td>9393.038202</td>\n",
              "      <td>3000.0</td>\n",
              "      <td>3375.00</td>\n",
              "      <td>9000.0</td>\n",
              "      <td>16500.00</td>\n",
              "      <td>22500.0</td>\n",
              "    </tr>\n",
              "    <tr>\n",
              "      <th>chevy</th>\n",
              "      <td>3.0</td>\n",
              "      <td>11616.666667</td>\n",
              "      <td>11515.677719</td>\n",
              "      <td>4450.0</td>\n",
              "      <td>4975.00</td>\n",
              "      <td>5500.0</td>\n",
              "      <td>15200.00</td>\n",
              "      <td>24900.0</td>\n",
              "    </tr>\n",
              "    <tr>\n",
              "      <th>dodge</th>\n",
              "      <td>1.0</td>\n",
              "      <td>18900.000000</td>\n",
              "      <td>NaN</td>\n",
              "      <td>18900.0</td>\n",
              "      <td>18900.00</td>\n",
              "      <td>18900.0</td>\n",
              "      <td>18900.00</td>\n",
              "      <td>18900.0</td>\n",
              "    </tr>\n",
              "    <tr>\n",
              "      <th>ford</th>\n",
              "      <td>3.0</td>\n",
              "      <td>21333.333333</td>\n",
              "      <td>29173.332572</td>\n",
              "      <td>3500.0</td>\n",
              "      <td>4500.00</td>\n",
              "      <td>5500.0</td>\n",
              "      <td>30250.00</td>\n",
              "      <td>55000.0</td>\n",
              "    </tr>\n",
              "    <tr>\n",
              "      <th>gmc</th>\n",
              "      <td>2.0</td>\n",
              "      <td>16475.000000</td>\n",
              "      <td>13470.384182</td>\n",
              "      <td>6950.0</td>\n",
              "      <td>11712.50</td>\n",
              "      <td>16475.0</td>\n",
              "      <td>21237.50</td>\n",
              "      <td>26000.0</td>\n",
              "    </tr>\n",
              "    <tr>\n",
              "      <th>honda</th>\n",
              "      <td>5.0</td>\n",
              "      <td>5629.800000</td>\n",
              "      <td>2372.328013</td>\n",
              "      <td>2300.0</td>\n",
              "      <td>4700.00</td>\n",
              "      <td>5900.0</td>\n",
              "      <td>6500.00</td>\n",
              "      <td>8749.0</td>\n",
              "    </tr>\n",
              "    <tr>\n",
              "      <th>jeep</th>\n",
              "      <td>2.0</td>\n",
              "      <td>9500.000000</td>\n",
              "      <td>0.000000</td>\n",
              "      <td>9500.0</td>\n",
              "      <td>9500.00</td>\n",
              "      <td>9500.0</td>\n",
              "      <td>9500.00</td>\n",
              "      <td>9500.0</td>\n",
              "    </tr>\n",
              "    <tr>\n",
              "      <th>lexus</th>\n",
              "      <td>2.0</td>\n",
              "      <td>11175.000000</td>\n",
              "      <td>318.198052</td>\n",
              "      <td>10950.0</td>\n",
              "      <td>11062.50</td>\n",
              "      <td>11175.0</td>\n",
              "      <td>11287.50</td>\n",
              "      <td>11400.0</td>\n",
              "    </tr>\n",
              "    <tr>\n",
              "      <th>missing</th>\n",
              "      <td>14.0</td>\n",
              "      <td>10089.214286</td>\n",
              "      <td>16148.241324</td>\n",
              "      <td>2000.0</td>\n",
              "      <td>3312.50</td>\n",
              "      <td>4650.0</td>\n",
              "      <td>6749.75</td>\n",
              "      <td>62800.0</td>\n",
              "    </tr>\n",
              "    <tr>\n",
              "      <th>mitsubishi</th>\n",
              "      <td>1.0</td>\n",
              "      <td>7300.000000</td>\n",
              "      <td>NaN</td>\n",
              "      <td>7300.0</td>\n",
              "      <td>7300.00</td>\n",
              "      <td>7300.0</td>\n",
              "      <td>7300.00</td>\n",
              "      <td>7300.0</td>\n",
              "    </tr>\n",
              "    <tr>\n",
              "      <th>subaru</th>\n",
              "      <td>1.0</td>\n",
              "      <td>3900.000000</td>\n",
              "      <td>NaN</td>\n",
              "      <td>3900.0</td>\n",
              "      <td>3900.00</td>\n",
              "      <td>3900.0</td>\n",
              "      <td>3900.00</td>\n",
              "      <td>3900.0</td>\n",
              "    </tr>\n",
              "    <tr>\n",
              "      <th>toyota</th>\n",
              "      <td>4.0</td>\n",
              "      <td>9549.750000</td>\n",
              "      <td>7072.121340</td>\n",
              "      <td>2199.0</td>\n",
              "      <td>4299.75</td>\n",
              "      <td>9500.0</td>\n",
              "      <td>14750.00</td>\n",
              "      <td>17000.0</td>\n",
              "    </tr>\n",
              "  </tbody>\n",
              "</table>\n",
              "</div>"
            ],
            "text/plain": [
              "           price                                                          \\\n",
              "           count          mean           std      min       25%      50%   \n",
              "brand                                                                      \n",
              "audi         1.0  37000.000000           NaN  37000.0  37000.00  37000.0   \n",
              "bmw          3.0  19966.666667  20813.537261   7900.0   7950.00   8000.0   \n",
              "chevrolet    4.0  10875.000000   9393.038202   3000.0   3375.00   9000.0   \n",
              "chevy        3.0  11616.666667  11515.677719   4450.0   4975.00   5500.0   \n",
              "dodge        1.0  18900.000000           NaN  18900.0  18900.00  18900.0   \n",
              "ford         3.0  21333.333333  29173.332572   3500.0   4500.00   5500.0   \n",
              "gmc          2.0  16475.000000  13470.384182   6950.0  11712.50  16475.0   \n",
              "honda        5.0   5629.800000   2372.328013   2300.0   4700.00   5900.0   \n",
              "jeep         2.0   9500.000000      0.000000   9500.0   9500.00   9500.0   \n",
              "lexus        2.0  11175.000000    318.198052  10950.0  11062.50  11175.0   \n",
              "missing     14.0  10089.214286  16148.241324   2000.0   3312.50   4650.0   \n",
              "mitsubishi   1.0   7300.000000           NaN   7300.0   7300.00   7300.0   \n",
              "subaru       1.0   3900.000000           NaN   3900.0   3900.00   3900.0   \n",
              "toyota       4.0   9549.750000   7072.121340   2199.0   4299.75   9500.0   \n",
              "\n",
              "                               \n",
              "                 75%      max  \n",
              "brand                          \n",
              "audi        37000.00  37000.0  \n",
              "bmw         26000.00  44000.0  \n",
              "chevrolet   16500.00  22500.0  \n",
              "chevy       15200.00  24900.0  \n",
              "dodge       18900.00  18900.0  \n",
              "ford        30250.00  55000.0  \n",
              "gmc         21237.50  26000.0  \n",
              "honda        6500.00   8749.0  \n",
              "jeep         9500.00   9500.0  \n",
              "lexus       11287.50  11400.0  \n",
              "missing      6749.75  62800.0  \n",
              "mitsubishi   7300.00   7300.0  \n",
              "subaru       3900.00   3900.0  \n",
              "toyota      14750.00  17000.0  "
            ]
          },
          "execution_count": 19,
          "metadata": {},
          "output_type": "execute_result"
        }
      ],
      "source": [
        "# Price by brand:\n",
        "df.loc[:,['price','brand']].groupby('brand').describe()"
      ]
    },
    {
      "cell_type": "code",
      "execution_count": null,
      "metadata": {
        "id": "XP4Q0dIdy3Xa",
        "outputId": "883e5889-5d9f-472b-d686-12a257490c23"
      },
      "outputs": [
        {
          "data": {
            "text/html": [
              "<div>\n",
              "<style scoped>\n",
              "    .dataframe tbody tr th:only-of-type {\n",
              "        vertical-align: middle;\n",
              "    }\n",
              "\n",
              "    .dataframe tbody tr th {\n",
              "        vertical-align: top;\n",
              "    }\n",
              "\n",
              "    .dataframe thead tr th {\n",
              "        text-align: left;\n",
              "    }\n",
              "\n",
              "    .dataframe thead tr:last-of-type th {\n",
              "        text-align: right;\n",
              "    }\n",
              "</style>\n",
              "<table border=\"1\" class=\"dataframe\">\n",
              "  <thead>\n",
              "    <tr>\n",
              "      <th></th>\n",
              "      <th colspan=\"8\" halign=\"left\">age</th>\n",
              "    </tr>\n",
              "    <tr>\n",
              "      <th></th>\n",
              "      <th>count</th>\n",
              "      <th>mean</th>\n",
              "      <th>std</th>\n",
              "      <th>min</th>\n",
              "      <th>25%</th>\n",
              "      <th>50%</th>\n",
              "      <th>75%</th>\n",
              "      <th>max</th>\n",
              "    </tr>\n",
              "    <tr>\n",
              "      <th>brand</th>\n",
              "      <th></th>\n",
              "      <th></th>\n",
              "      <th></th>\n",
              "      <th></th>\n",
              "      <th></th>\n",
              "      <th></th>\n",
              "      <th></th>\n",
              "      <th></th>\n",
              "    </tr>\n",
              "  </thead>\n",
              "  <tbody>\n",
              "    <tr>\n",
              "      <th>audi</th>\n",
              "      <td>1.0</td>\n",
              "      <td>6.000000</td>\n",
              "      <td>NaN</td>\n",
              "      <td>6.0</td>\n",
              "      <td>6.0</td>\n",
              "      <td>6.0</td>\n",
              "      <td>6.0</td>\n",
              "      <td>6.0</td>\n",
              "    </tr>\n",
              "    <tr>\n",
              "      <th>bmw</th>\n",
              "      <td>2.0</td>\n",
              "      <td>15.000000</td>\n",
              "      <td>1.414214</td>\n",
              "      <td>14.0</td>\n",
              "      <td>14.5</td>\n",
              "      <td>15.0</td>\n",
              "      <td>15.5</td>\n",
              "      <td>16.0</td>\n",
              "    </tr>\n",
              "    <tr>\n",
              "      <th>chevrolet</th>\n",
              "      <td>4.0</td>\n",
              "      <td>44.000000</td>\n",
              "      <td>16.000000</td>\n",
              "      <td>36.0</td>\n",
              "      <td>36.0</td>\n",
              "      <td>36.0</td>\n",
              "      <td>44.0</td>\n",
              "      <td>68.0</td>\n",
              "    </tr>\n",
              "    <tr>\n",
              "      <th>chevy</th>\n",
              "      <td>3.0</td>\n",
              "      <td>20.000000</td>\n",
              "      <td>12.124356</td>\n",
              "      <td>7.0</td>\n",
              "      <td>14.5</td>\n",
              "      <td>22.0</td>\n",
              "      <td>26.5</td>\n",
              "      <td>31.0</td>\n",
              "    </tr>\n",
              "    <tr>\n",
              "      <th>dodge</th>\n",
              "      <td>1.0</td>\n",
              "      <td>27.000000</td>\n",
              "      <td>NaN</td>\n",
              "      <td>27.0</td>\n",
              "      <td>27.0</td>\n",
              "      <td>27.0</td>\n",
              "      <td>27.0</td>\n",
              "      <td>27.0</td>\n",
              "    </tr>\n",
              "    <tr>\n",
              "      <th>ford</th>\n",
              "      <td>3.0</td>\n",
              "      <td>22.666667</td>\n",
              "      <td>1.154701</td>\n",
              "      <td>22.0</td>\n",
              "      <td>22.0</td>\n",
              "      <td>22.0</td>\n",
              "      <td>23.0</td>\n",
              "      <td>24.0</td>\n",
              "    </tr>\n",
              "    <tr>\n",
              "      <th>gmc</th>\n",
              "      <td>1.0</td>\n",
              "      <td>27.000000</td>\n",
              "      <td>NaN</td>\n",
              "      <td>27.0</td>\n",
              "      <td>27.0</td>\n",
              "      <td>27.0</td>\n",
              "      <td>27.0</td>\n",
              "      <td>27.0</td>\n",
              "    </tr>\n",
              "    <tr>\n",
              "      <th>honda</th>\n",
              "      <td>5.0</td>\n",
              "      <td>18.000000</td>\n",
              "      <td>9.000000</td>\n",
              "      <td>10.0</td>\n",
              "      <td>13.0</td>\n",
              "      <td>15.0</td>\n",
              "      <td>19.0</td>\n",
              "      <td>33.0</td>\n",
              "    </tr>\n",
              "    <tr>\n",
              "      <th>jeep</th>\n",
              "      <td>2.0</td>\n",
              "      <td>22.000000</td>\n",
              "      <td>14.142136</td>\n",
              "      <td>12.0</td>\n",
              "      <td>17.0</td>\n",
              "      <td>22.0</td>\n",
              "      <td>27.0</td>\n",
              "      <td>32.0</td>\n",
              "    </tr>\n",
              "    <tr>\n",
              "      <th>lexus</th>\n",
              "      <td>2.0</td>\n",
              "      <td>17.000000</td>\n",
              "      <td>5.656854</td>\n",
              "      <td>13.0</td>\n",
              "      <td>15.0</td>\n",
              "      <td>17.0</td>\n",
              "      <td>19.0</td>\n",
              "      <td>21.0</td>\n",
              "    </tr>\n",
              "    <tr>\n",
              "      <th>missing</th>\n",
              "      <td>11.0</td>\n",
              "      <td>30.636364</td>\n",
              "      <td>23.585049</td>\n",
              "      <td>7.0</td>\n",
              "      <td>12.0</td>\n",
              "      <td>20.0</td>\n",
              "      <td>49.0</td>\n",
              "      <td>68.0</td>\n",
              "    </tr>\n",
              "    <tr>\n",
              "      <th>mitsubishi</th>\n",
              "      <td>1.0</td>\n",
              "      <td>17.000000</td>\n",
              "      <td>NaN</td>\n",
              "      <td>17.0</td>\n",
              "      <td>17.0</td>\n",
              "      <td>17.0</td>\n",
              "      <td>17.0</td>\n",
              "      <td>17.0</td>\n",
              "    </tr>\n",
              "    <tr>\n",
              "      <th>subaru</th>\n",
              "      <td>1.0</td>\n",
              "      <td>11.000000</td>\n",
              "      <td>NaN</td>\n",
              "      <td>11.0</td>\n",
              "      <td>11.0</td>\n",
              "      <td>11.0</td>\n",
              "      <td>11.0</td>\n",
              "      <td>11.0</td>\n",
              "    </tr>\n",
              "    <tr>\n",
              "      <th>toyota</th>\n",
              "      <td>4.0</td>\n",
              "      <td>15.500000</td>\n",
              "      <td>3.109126</td>\n",
              "      <td>12.0</td>\n",
              "      <td>13.5</td>\n",
              "      <td>15.5</td>\n",
              "      <td>17.5</td>\n",
              "      <td>19.0</td>\n",
              "    </tr>\n",
              "  </tbody>\n",
              "</table>\n",
              "</div>"
            ],
            "text/plain": [
              "             age                                                    \n",
              "           count       mean        std   min   25%   50%   75%   max\n",
              "brand                                                               \n",
              "audi         1.0   6.000000        NaN   6.0   6.0   6.0   6.0   6.0\n",
              "bmw          2.0  15.000000   1.414214  14.0  14.5  15.0  15.5  16.0\n",
              "chevrolet    4.0  44.000000  16.000000  36.0  36.0  36.0  44.0  68.0\n",
              "chevy        3.0  20.000000  12.124356   7.0  14.5  22.0  26.5  31.0\n",
              "dodge        1.0  27.000000        NaN  27.0  27.0  27.0  27.0  27.0\n",
              "ford         3.0  22.666667   1.154701  22.0  22.0  22.0  23.0  24.0\n",
              "gmc          1.0  27.000000        NaN  27.0  27.0  27.0  27.0  27.0\n",
              "honda        5.0  18.000000   9.000000  10.0  13.0  15.0  19.0  33.0\n",
              "jeep         2.0  22.000000  14.142136  12.0  17.0  22.0  27.0  32.0\n",
              "lexus        2.0  17.000000   5.656854  13.0  15.0  17.0  19.0  21.0\n",
              "missing     11.0  30.636364  23.585049   7.0  12.0  20.0  49.0  68.0\n",
              "mitsubishi   1.0  17.000000        NaN  17.0  17.0  17.0  17.0  17.0\n",
              "subaru       1.0  11.000000        NaN  11.0  11.0  11.0  11.0  11.0\n",
              "toyota       4.0  15.500000   3.109126  12.0  13.5  15.5  17.5  19.0"
            ]
          },
          "execution_count": 20,
          "metadata": {},
          "output_type": "execute_result"
        }
      ],
      "source": [
        "# Age by brand:\n",
        "df.loc[:,['age','brand']].groupby('brand').describe()"
      ]
    },
    {
      "cell_type": "code",
      "execution_count": null,
      "metadata": {
        "id": "lHypfI-py3Xa",
        "outputId": "1f24c08e-e5d6-4f60-a944-e1760c3fd51d"
      },
      "outputs": [
        {
          "data": {
            "image/png": "[encoded data removed]",
            "text/plain": [
              "<Figure size 640x480 with 1 Axes>"
            ]
          },
          "metadata": {},
          "output_type": "display_data"
        }
      ],
      "source": [
        "ax = sns.scatterplot(data=df, x='age', y='price',hue='brand')\n",
        "sns.move_legend(ax, \"upper left\", bbox_to_anchor=(1, 1))"
      ]
    },
    {
      "cell_type": "code",
      "execution_count": null,
      "metadata": {
        "id": "LzFhDn50y3Xa",
        "outputId": "bd26a020-f944-4b07-f98f-40a64db9d94d"
      },
      "outputs": [
        {
          "name": "stdout",
          "output_type": "stream",
          "text": [
            "           log_price   log_age\n",
            "log_price   0.783367 -0.196806\n",
            "log_age    -0.196806  0.382606\n",
            "           log_price   log_age\n",
            "log_price   1.000000 -0.376511\n",
            "log_age    -0.376511  1.000000\n"
          ]
        },
        {
          "data": {
            "image/png": "[encoded data removed]",
            "text/plain": [
              "<Figure size 640x480 with 1 Axes>"
            ]
          },
          "metadata": {},
          "output_type": "display_data"
        }
      ],
      "source": [
        "df['log_price'] = np.log(df['price'])\n",
        "df['log_age'] = np.log(df['age'])\n",
        "\n",
        "ax = sns.scatterplot(data=df, x='log_age', y='log_price',hue='brand')\n",
        "sns.move_legend(ax, \"upper left\", bbox_to_anchor=(1, 1))\n",
        "\n",
        "print(df.loc[:,['log_price','log_age']].cov())\n",
        "print(df.loc[:,['log_price','log_age']].corr())"
      ]
    },
    {
      "cell_type": "markdown",
      "metadata": {
        "id": "MCEACcYfO03C"
      },
      "source": [
        "## The Lab:\n",
        "\n",
        "\n",
        "1. Pick something else on Craigslist besides used cars: Musical instruments, roommates, antiques, etc. Look at the search page and its source code. Record which fields/data you would like to gather, and what kinds of basic EDA you'd do with it.\n",
        "2. Get your search results of interest using `requests` and extract data from them using `beautifulSoup`, using code similar to what's above.\n",
        "3. Wrangle your data into a dataframe and do some basic descriptions and plots. Try to find some interesting relationships or stories to tell about your data."
      ]
    },
    {
      "cell_type": "code",
      "source": [
        "import numpy as np\n",
        "import pandas as pd\n",
        "import requests\n",
        "from bs4 import BeautifulSoup as soup\n",
        "import re\n",
        "\n",
        "header = {'User-Agent': 'Mozilla/5.0 (Windows NT 10.0; Win64; x64; rv:124.0) Gecko/20100101 Firefox/124.0'}\n",
        "target_url = 'https://charlottesville.craigslist.org/search/cla?purveyor=owner#search=1~gallery~0~0'\n",
        "\n",
        "response = requests.get(target_url, headers=header)\n",
        "bsObj = soup(response.content, 'html.parser')\n",
        "listings = bsObj.find_all(class_=\"cl-static-search-result\")\n",
        "\n",
        "# parameters\n",
        "fashion_brands = ['nike', 'levis', 'patagonia', 'lululemon', 'ralph lauren',\n",
        "                 'j.crew', 'madewell', 'gap', 'zara', 'h&m']\n",
        "sizes = ['xs','s','m','l','xl','xxl', 'plus']\n",
        "conditions = ['new','nwt','like new','gently used','vintage']\n",
        "\n",
        "# extraction\n",
        "fashion_data = []\n",
        "for item in listings:\n",
        "    try:\n",
        "        title = item.find('div', class_='title').get_text().lower()\n",
        "        price = item.find('div', class_='price').get_text() if item.find('div', class_='price') else None\n",
        "        link = item.find(href=True)['href'] if item.find(href=True) else None\n",
        "\n",
        "\n",
        "        brand = next((b for b in fashion_brands if b in title), 'other')\n",
        "        size = next((s for s in sizes if s in title), None)\n",
        "        condition = next((c for c in conditions if c in title), 'unspecified')\n",
        "        category = 'accessory' if any(kw in title for kw in ['bag','hat','belt']) else 'clothing'\n",
        "\n",
        "        fashion_data.append({\n",
        "            'title': title,\n",
        "            'price': float(price.replace('$','').replace(',','')) if price else None,\n",
        "            'brand': brand,\n",
        "            'size': size,\n",
        "            'condition': condition,\n",
        "            'category': category,\n",
        "            'link': link\n",
        "        })\n",
        "    except Exception as e:\n",
        "        print(f\"Error processing listing: {e}\")\n",
        "\n",
        "print(f\"Initial listings collected: {len(fashion_data)}\")"
      ],
      "metadata": {
        "id": "ggdeVNy9O2JC",
        "outputId": "6f2de14d-799f-4f1a-9910-a1608ca180fd",
        "colab": {
          "base_uri": "https://localhost:8080/"
        }
      },
      "execution_count": 7,
      "outputs": [
        {
          "output_type": "stream",
          "name": "stdout",
          "text": [
            "Initial listings collected: 137\n"
          ]
        }
      ]
    },
    {
      "cell_type": "code",
      "source": [
        "# clean and create dataframe because some listings had no prices and some were unrealistic prices\n",
        "df = pd.DataFrame(fashion_data)\n",
        "df = df.dropna(subset=['price'])\n",
        "df = df[df['price'].between(5, 1000)]\n",
        "\n",
        "# for missing size\n",
        "df['size'] = df['size'].fillna('unspecified')\n",
        "\n",
        "# conversion\n",
        "df['condition'] = pd.Categorical(df['condition'],\n",
        "                                categories=['new','nwt','like new','gently used','vintage','unspecified'],\n",
        "                                ordered=True)\n",
        "\n",
        "print(f\"Cleaned dataset contains {len(df)} valid listings\")\n",
        "print(\"\\nData overview:\")\n",
        "print(df.head())\n",
        "print(df.tail())"
      ],
      "metadata": {
        "id": "zU8eVRuYO99h",
        "outputId": "b89b68a3-51c4-4ad2-c50d-19b2aabd825b",
        "colab": {
          "base_uri": "https://localhost:8080/"
        }
      },
      "execution_count": 8,
      "outputs": [
        {
          "output_type": "stream",
          "name": "stdout",
          "text": [
            "Cleaned dataset contains 126 valid listings\n",
            "\n",
            "Data overview:\n",
            "                                title  price  brand size    condition  \\\n",
            "0  vera pella leather purse/backpack.   45.0  other    s  unspecified   \n",
            "1     london fog- men's top coat  42l   30.0  other    s  unspecified   \n",
            "2      allen edmonds men's shoes -11d   75.0  other    s  unspecified   \n",
            "3      jack georges leather briefcase  220.0  other    s  unspecified   \n",
            "4           black leather jacket - xl   35.0  other    l  unspecified   \n",
            "\n",
            "   category                                               link  \n",
            "0  clothing  https://charlottesville.craigslist.org/clo/d/c...  \n",
            "1  clothing  https://charlottesville.craigslist.org/clo/d/l...  \n",
            "2  clothing  https://charlottesville.craigslist.org/clo/d/c...  \n",
            "3  clothing  https://charlottesville.craigslist.org/clo/d/c...  \n",
            "4  clothing  https://charlottesville.craigslist.org/clo/d/c...  \n",
            "                                                 title  price  brand size  \\\n",
            "132   levi's 505 regular fit jeans 3 pairs w36 l32 new   85.0  other    s   \n",
            "133                           satin french maids apron    5.0  other    s   \n",
            "134  brand new loungefly gizmo mini backpack & wall...  125.0  other    s   \n",
            "135                                       stitch shoes   30.0  other    s   \n",
            "136                                 minnie mouse shoes   30.0  other    s   \n",
            "\n",
            "       condition  category                                               link  \n",
            "132          new  clothing  https://charlottesville.craigslist.org/clo/d/p...  \n",
            "133  unspecified  clothing  https://charlottesville.craigslist.org/clo/d/t...  \n",
            "134          new  clothing  https://charlottesville.craigslist.org/clo/d/c...  \n",
            "135  unspecified  clothing  https://charlottesville.craigslist.org/clo/d/k...  \n",
            "136  unspecified  clothing  https://charlottesville.craigslist.org/clo/d/k...  \n"
          ]
        }
      ]
    },
    {
      "cell_type": "code",
      "source": [
        "import matplotlib.pyplot as plt\n",
        "import seaborn as sns\n",
        "\n",
        "# stats\n",
        "print(\"Price statistics by category:\")\n",
        "print(df.groupby('category')['price'].describe())\n",
        "\n",
        "# Price distribution by condition\n",
        "plt.figure(figsize=(12,6))\n",
        "sns.boxplot(x='condition', y='price', data=df,\n",
        "           order=['new','nwt','like new','gently used','vintage'])\n",
        "plt.title('Price Distribution by Item Condition')\n",
        "plt.xticks(rotation=45)\n",
        "plt.show()\n",
        "\n",
        "# Brand analysis\n",
        "brand_stats = df.groupby('brand').agg(\n",
        "    avg_price=('price', 'mean'),\n",
        "    count=('price', 'count')\n",
        ").sort_values('avg_price', ascending=False)\n",
        "print(\"\\nTop performing brands:\")\n",
        "print(brand_stats[brand_stats['count'] > 1].head())\n",
        "\n",
        "# Size distribution\n",
        "plt.figure(figsize=(10,6))\n",
        "df['size'].value_counts().plot(kind='bar')\n",
        "plt.title('Size Frequency in Listings')\n",
        "plt.show()"
      ],
      "metadata": {
        "id": "yB18VjWqPDJR",
        "outputId": "a07db7b2-892b-4aba-8ecb-4fcf0af8a677",
        "colab": {
          "base_uri": "https://localhost:8080/",
          "height": 1000
        }
      },
      "execution_count": 9,
      "outputs": [
        {
          "output_type": "stream",
          "name": "stdout",
          "text": [
            "Price statistics by category:\n",
            "           count       mean        std   min   25%   50%    75%    max\n",
            "category                                                              \n",
            "accessory    7.0  91.428571  99.863001  20.0  20.0  45.0  135.0  265.0\n",
            "clothing   119.0  72.411765  82.932218   5.0  20.0  45.0   92.5  425.0\n"
          ]
        },
        {
          "output_type": "display_data",
          "data": {
            "text/plain": [
              "<Figure size 1200x600 with 1 Axes>"
            ],
            "image/png": "[encoded data removed]"
          },
          "metadata": {}
        },
        {
          "output_type": "stream",
          "name": "stdout",
          "text": [
            "\n",
            "Top performing brands:\n",
            "           avg_price  count\n",
            "brand                      \n",
            "nike       78.000000      5\n",
            "other      74.127119    118\n",
            "patagonia  35.000000      2\n"
          ]
        },
        {
          "output_type": "display_data",
          "data": {
            "text/plain": [
              "<Figure size 1000x600 with 1 Axes>"
            ],
            "image/png": "[encoded data removed]"
          },
          "metadata": {}
        }
      ]
    }
  ],
  "metadata": {
    "colab": {
      "provenance": []
    },
    "kernelspec": {
      "display_name": "Python 3",
      "language": "python",
      "name": "python3"
    },
    "language_info": {
      "codemirror_mode": {
        "name": "ipython",
        "version": 3
      },
      "file_extension": ".py",
      "mimetype": "text/x-python",
      "name": "python",
      "nbconvert_exporter": "python",
      "pygments_lexer": "ipython3",
      "version": "3.10.12"
    }
  },
  "nbformat": 4,
  "nbformat_minor": 0
}